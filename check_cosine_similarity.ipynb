{
  "nbformat": 4,
  "nbformat_minor": 0,
  "metadata": {
    "colab": {
      "name": "Untitled2.ipynb",
      "provenance": [],
      "authorship_tag": "ABX9TyP14hiWk7c/ULb2vBK1AkLV",
      "include_colab_link": true
    },
    "kernelspec": {
      "name": "python3",
      "display_name": "Python 3"
    }
  },
  "cells": [
    {
      "cell_type": "markdown",
      "metadata": {
        "id": "view-in-github",
        "colab_type": "text"
      },
      "source": [
        "<a href=\"https://colab.research.google.com/github/CosmoKnight786/Movie_Perdictor/blob/master/check_cosine_similarity.ipynb\" target=\"_parent\"><img src=\"https://colab.research.google.com/assets/colab-badge.svg\" alt=\"Open In Colab\"/></a>"
      ]
    },
    {
      "cell_type": "code",
      "metadata": {
        "id": "EQnYb8h94gQC",
        "outputId": "dc05eb4e-8885-48fb-faad-19c28de79501",
        "colab": {
          "base_uri": "https://localhost:8080/"
        }
      },
      "source": [
        "from sklearn.feature_extraction.text import CountVectorizer\n",
        "from sklearn.metrics.pairwise import cosine_similarity\n",
        "text = [\"java python java\",\"java python cpp\",\"java java cpp\"]\n",
        "cv = CountVectorizer()\n",
        "count_matrix = cv.fit_transform(text)\n",
        "print(\"The feature names are:\")\n",
        "print(cv.get_feature_names(),\"\\n\")\n",
        "print(\"count matrix:\")\n",
        "\n",
        "print(count_matrix.toarray(),\"\\n\")\n",
        "print(\"cosine matrix:\")\n",
        "\n",
        "similarity_scores = cosine_similarity(count_matrix)\n",
        "print(similarity_scores)"
      ],
      "execution_count": 1,
      "outputs": [
        {
          "output_type": "stream",
          "text": [
            "The feature names are:\n",
            "['cpp', 'java', 'python'] \n",
            "\n",
            "count matrix:\n",
            "[[0 2 1]\n",
            " [1 1 1]\n",
            " [1 2 0]] \n",
            "\n",
            "cosine matrix:\n",
            "[[1.         0.77459667 0.8       ]\n",
            " [0.77459667 1.         0.77459667]\n",
            " [0.8        0.77459667 1.        ]]\n"
          ],
          "name": "stdout"
        }
      ]
    }
  ]
}