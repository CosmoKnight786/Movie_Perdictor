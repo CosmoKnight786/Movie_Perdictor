{
  "nbformat": 4,
  "nbformat_minor": 0,
  "metadata": {
    "colab": {
      "name": "Untitled4.ipynb",
      "provenance": [],
      "authorship_tag": "ABX9TyOpN/BSaLOhVh6ZcAol0XDf",
      "include_colab_link": true
    },
    "kernelspec": {
      "name": "python3",
      "display_name": "Python 3"
    }
  },
  "cells": [
    {
      "cell_type": "markdown",
      "metadata": {
        "id": "view-in-github",
        "colab_type": "text"
      },
      "source": [
        "<a href=\"https://colab.research.google.com/github/cosmoKnight333/Movie_Perdictor/blob/master/Movie_predictor_Finalfile.ipynb\" target=\"_parent\"><img src=\"https://colab.research.google.com/assets/colab-badge.svg\" alt=\"Open In Colab\"/></a>"
      ]
    },
    {
      "cell_type": "code",
      "metadata": {
        "colab": {
          "base_uri": "https://localhost:8080/"
        },
        "id": "gOCPeenVqhFF",
        "outputId": "c5bdae0f-1d7a-48a4-9771-21f317c0e960"
      },
      "source": [
        "# Import Important Libraries\n",
        "import pandas as pd\n",
        "import numpy as np\n",
        "from sklearn.feature_extraction.text import CountVectorizer\n",
        "from sklearn.metrics.pairwise import cosine_similarity\n",
        "\n",
        "def Final_Movie(index):\n",
        "\treturn df[df.index == index][\"title\"].values[0]\n",
        "\n",
        "def Searched_Movie(title):\n",
        "\treturn df[df.title == title][\"index\"].values[0]\n",
        "\n",
        "# Input Dataset using Pandas Library\n",
        "df = pd.read_csv(\"movie_dataset.csv\")\n",
        "\n",
        "features = ['keywords','budget','genres','original_language','popularity','production_companies','production_countries','release_date','revenue','runtime','spoken_languages','status','cast','crew','director']\n",
        "\n",
        "for feature in features:\n",
        "\tdf[feature] = df[feature].fillna('')\n",
        "    \n",
        "def combine_features(row):\n",
        "\ttry:\n",
        "\t\treturn row['keywords'] +\" \"+row['cast']+\" \"+row[\"genres\"]+\" \"+row[\"director\"]\n",
        "\texcept:\n",
        "\t\tprint(\"Error:\", row\t)\n",
        "        \n",
        "df[\"combined_features\"] = df.apply(combine_features,axis=1)\n",
        "\n",
        "cv = CountVectorizer()\n",
        "\n",
        "count_matrix = cv.fit_transform(df[\"combined_features\"])\n",
        "\n",
        "cosine_sim = cosine_similarity(count_matrix)\n",
        "# Input n\n",
        "n = int(input())\n",
        "j= int(0)\n",
        "while j<n:\n",
        " Input_Movie = input()\n",
        " j=j+1\n",
        " movie_index = Searched_Movie(Input_Movie)\n",
        " similar_movies =  list(enumerate(cosine_sim[movie_index]))\n",
        " sorted_similar_movies = sorted(similar_movies,key=lambda x:x[1],reverse=True)\n",
        " i=0\n",
        " # Initialize the List\n",
        " List = []\n",
        " for element in sorted_similar_movies:\n",
        "         # Append Each Similar Movie Inside List\n",
        "\t\t List.append(Final_Movie(element[0]))\n",
        "\t\t i=i+1\n",
        "\t\t if i>50:\n",
        "\t\t\t break\n",
        " # Sort The Final Output For Printing\n",
        " List.sort()\n",
        " print(List)"
      ],
      "execution_count": 6,
      "outputs": [
        {
          "output_type": "stream",
          "text": [
            "2\n",
            "300\n",
            "['16 Blocks', '300', '300: Rise of an Empire', 'Airlift', 'Baahubali: The Beginning', 'Batman v Superman: Dawn of Justice', 'Behind Enemy Lines', 'Blade: Trinity', 'Captain America: Civil War', 'Centurion', 'Damnation Alley', 'Flyboys', 'Fury', \"Hart's War\", 'How to Train Your Dragon 2', 'Inspector Gadget', 'Johnny English Reborn', 'Killer Elite', 'Lara Croft Tomb Raider: The Cradle of Life', 'Lawrence of Arabia', \"Legend of the Guardians: The Owls of Ga'Hoole\", 'Letters from Iwo Jima', 'Lions for Lambs', 'Machine Gun Preacher', 'Man of Steel', 'Mercy Streets', 'Proof of Life', 'Rambo: First Blood Part II', 'Red Tails', 'Reign of Fire', 'Saints and Soldiers', 'Saving Private Ryan', 'Six Days Seven Nights', 'Tears of the Sun', 'The Adventurer: The Curse of the Midas Box', 'The Blood of Heroes', 'The Cave', 'The Charge of the Light Brigade', 'The Crocodile Hunter: Collision Course', 'The Game of Their Lives', 'The Great Raid', 'The Marine', 'The Messenger: The Story of Joan of Arc', 'The Proposition', 'Three Kings', 'Timeline', 'Tora! Tora! Tora!', 'U-571', 'Virgin Territory', 'We Were Soldiers', 'Windtalkers']\n",
            "Iron Man\n",
            "['A Scanner Darkly', 'Ant-Man', 'Avengers: Age of Ultron', 'Blade: Trinity', 'Captain America: Civil War', 'Captain America: The First Avenger', 'Captain America: The Winter Soldier', 'Deadpool', 'Dragonball Evolution', 'Fantastic Four', 'G.I. Joe: Retaliation', 'Green Lantern', 'Guardians of the Galaxy', 'Independence Day', 'Independence Day: Resurgence', 'Iron Man', 'Iron Man 2', 'Iron Man 3', 'Jurassic World', 'Kick-Ass 2', 'Made', 'Man of Steel', 'Red Sonja', 'RoboCop 3', 'Sherlock Holmes', 'Sherlock Holmes: A Game of Shadows', 'Sky Captain and the World of Tomorrow', 'Southland Tales', 'Spy Kids 3-D: Game Over', 'Stargate: The Ark of Truth', 'Superman II', 'Superman Returns', 'TRON: Legacy', 'The Amazing Spider-Man 2', 'The Avengers', 'The Black Hole', 'The Core', 'The Helix... Loaded', 'The Incredible Hulk', 'The Lost World: Jurassic Park', 'The Shadow', 'The Wolverine', 'Thor: The Dark World', 'X-Men', 'X-Men Origins: Wolverine', 'X-Men: Apocalypse', 'X-Men: Days of Future Past', 'X-Men: First Class', 'X-Men: The Last Stand', 'X2', 'Zathura: A Space Adventure']\n"
          ],
          "name": "stdout"
        }
      ]
    }
  ]
}