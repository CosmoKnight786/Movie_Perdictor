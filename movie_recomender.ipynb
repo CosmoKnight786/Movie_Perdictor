{
  "nbformat": 4,
  "nbformat_minor": 0,
  "metadata": {
    "colab": {
      "name": "Untitled3.ipynb",
      "provenance": [],
      "collapsed_sections": [],
      "include_colab_link": true
    },
    "kernelspec": {
      "name": "python3",
      "display_name": "Python 3"
    }
  },
  "cells": [
    {
      "cell_type": "markdown",
      "metadata": {
        "id": "view-in-github",
        "colab_type": "text"
      },
      "source": [
        "<a href=\"https://colab.research.google.com/github/CosmoKnight786/Movie_Perdictor/blob/master/movie_recomender.ipynb\" target=\"_parent\"><img src=\"https://colab.research.google.com/assets/colab-badge.svg\" alt=\"Open In Colab\"/></a>"
      ]
    },
    {
      "cell_type": "code",
      "metadata": {
        "id": "mxo5yKrKj4ue",
        "colab": {
          "base_uri": "https://localhost:8080/"
        },
        "outputId": "605c9fc4-7a83-44dc-fdc4-80cdc190f741"
      },
      "source": [
        "import pandas as pd\n",
        "import numpy as np\n",
        "from sklearn.feature_extraction.text import CountVectorizer\n",
        "from sklearn.metrics.pairwise import cosine_similarity\n",
        "\n",
        "def get_title_from_index(index):\n",
        "\treturn df[df.index == index][\"title\"].values[0]\n",
        "def get_index_from_title(title):\n",
        "\treturn df[df.title == title][\"index\"].values[0]\n",
        "df = pd.read_csv(\"movie_dataset.csv\")\n",
        "features = ['keywords','budget','genres','original_language','popularity','production_companies','production_countries','release_date','revenue','runtime','spoken_languages','status','cast','crew','director']\n",
        "for feature in features:\n",
        "\tdf[feature] = df[feature].fillna('')\n",
        "def combine_features(row):\n",
        "\ttry:\n",
        "\t\treturn row['keywords'] +\" \"+row['cast']+\" \"+row[\"genres\"]+\" \"+row[\"director\"]\n",
        "\texcept:\n",
        "\t\tprint(\"Error:\", row\t)\n",
        "df[\"combined_features\"] = df.apply(combine_features,axis=1)\n",
        "cv = CountVectorizer()\n",
        "count_matrix = cv.fit_transform(df[\"combined_features\"])\n",
        "cosine_sim = cosine_similarity(count_matrix) \n",
        "movie_user_likes = input()\n",
        "movie_index = get_index_from_title(movie_user_likes)\n",
        "similar_movies =  list(enumerate(cosine_sim[movie_index]))\n",
        "sorted_similar_movies = sorted(similar_movies,key=lambda x:x[1],reverse=True)\n",
        "i=0\n",
        "for element in sorted_similar_movies:\n",
        "\t\tprint( get_title_from_index(element[0]))\n",
        "\t\ti=i+1\n",
        "\t\tif i>50:\n",
        "\t\t\tbreak"
      ],
      "execution_count": 41,
      "outputs": [
        {
          "output_type": "stream",
          "text": [
            "Iron Man\n",
            "Iron Man\n",
            "Iron Man 2\n",
            "Iron Man 3\n",
            "Avengers: Age of Ultron\n",
            "The Avengers\n",
            "Captain America: Civil War\n",
            "Captain America: The Winter Soldier\n",
            "Ant-Man\n",
            "X-Men\n",
            "X2\n",
            "The Helix... Loaded\n",
            "X-Men: First Class\n",
            "The Incredible Hulk\n",
            "X-Men: The Last Stand\n",
            "X-Men: Days of Future Past\n",
            "Fantastic Four\n",
            "X-Men Origins: Wolverine\n",
            "Guardians of the Galaxy\n",
            "The Wolverine\n",
            "TRON: Legacy\n",
            "X-Men: Apocalypse\n",
            "Captain America: The First Avenger\n",
            "Sky Captain and the World of Tomorrow\n",
            "Zathura: A Space Adventure\n",
            "Made\n",
            "Man of Steel\n",
            "Thor: The Dark World\n",
            "Deadpool\n",
            "Superman II\n",
            "Independence Day: Resurgence\n",
            "Kick-Ass 2\n",
            "Southland Tales\n",
            "G.I. Joe: Retaliation\n",
            "Independence Day\n",
            "Sherlock Holmes: A Game of Shadows\n",
            "Red Sonja\n",
            "Stargate: The Ark of Truth\n",
            "The Lost World: Jurassic Park\n",
            "Jurassic World\n",
            "Sherlock Holmes\n",
            "Blade: Trinity\n",
            "Dragonball Evolution\n",
            "A Scanner Darkly\n",
            "Superman Returns\n",
            "Spy Kids 3-D: Game Over\n",
            "The Black Hole\n",
            "The Amazing Spider-Man 2\n",
            "Green Lantern\n",
            "The Core\n",
            "The Shadow\n",
            "RoboCop 3\n"
          ],
          "name": "stdout"
        }
      ]
    }
  ]
}